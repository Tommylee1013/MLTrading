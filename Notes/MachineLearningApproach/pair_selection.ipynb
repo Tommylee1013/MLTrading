{
 "cells": [
  {
   "metadata": {},
   "cell_type": "markdown",
   "source": "## Pair Selection using Machine Learning",
   "id": "a962369030bdb334"
  },
  {
   "metadata": {
    "ExecuteTime": {
     "end_time": "2024-05-19T16:13:02.737405Z",
     "start_time": "2024-05-19T16:12:56.239520Z"
    }
   },
   "cell_type": "code",
   "source": [
    "import numpy as np\n",
    "import pandas as pd\n",
    "import matplotlib.pyplot as plt\n",
    "#import arbitragelab as al\n",
    "import warnings\n",
    "warnings.filterwarnings('ignore')\n",
    "\n",
    "plt.rcParams['axes.spines.top'] = False\n",
    "plt.rcParams['axes.spines.bottom'] = False\n",
    "plt.rcParams['axes.spines.left'] = False\n",
    "plt.rcParams['axes.spines.right'] = False\n",
    "\n",
    "prices_df = pd.read_csv('../../data/data.csv').set_index('Date').dropna()\n",
    "prices_df.index = pd.to_datetime(prices_df.index)\n",
    "\n",
    "prices_df = prices_df.last('10Y')"
   ],
   "id": "e9ad2622fd64f920",
   "outputs": [],
   "execution_count": 2
  },
  {
   "metadata": {},
   "cell_type": "markdown",
   "source": [
    "### Dimensionality Reduction\n",
    "\n",
    "PCA를 사용해서 각 자산의 최적 군집을 찾는다. PCA로 차원 축소를 하기 전, 가격 데이터를 수익률 데이터로 바꾼 뒤, 평균을 표준편차로 나눠서 정규화를 진행해 주어야 한다.\n",
    "\n",
    "Returns \n",
    "\n",
    "$$ R_{i, t} = \\frac{P_{i,t} - P_{i,t-1}} {P_{i,t-1}} $$\n",
    "\n",
    "\n",
    "Data Normalization\n",
    "\n",
    "$$ Y_{i} =  \\frac{R_{i} - \\bar{R_{i}}} {\\sigma_{i}} $$\n"
   ],
   "id": "485164c2488f8db0"
  },
  {
   "metadata": {
    "ExecuteTime": {
     "start_time": "2024-05-19T16:27:47.409644Z"
    }
   },
   "cell_type": "code",
   "source": [
    "from arbitragelab.ml_approach import OPTICSDBSCANPairsClustering\n",
    "\n",
    "ps = OPTICSDBSCANPairsClustering(prices_df)\n",
    "\n",
    "# Here the first parameter is the number of features to reduce to.\n",
    "ps.dimensionality_reduction_by_components(5)\n",
    "\n",
    "# The following will plot the feature vector from the previous method call.\n",
    "ps.plot_pca_matrix();"
   ],
   "id": "6062fded29cad406",
   "outputs": [],
   "execution_count": null
  },
  {
   "metadata": {},
   "cell_type": "code",
   "outputs": [],
   "execution_count": null,
   "source": "",
   "id": "c8840a81bfae8275"
  }
 ],
 "metadata": {
  "kernelspec": {
   "display_name": "Python 3",
   "language": "python",
   "name": "python3"
  },
  "language_info": {
   "codemirror_mode": {
    "name": "ipython",
    "version": 2
   },
   "file_extension": ".py",
   "mimetype": "text/x-python",
   "name": "python",
   "nbconvert_exporter": "python",
   "pygments_lexer": "ipython2",
   "version": "2.7.6"
  }
 },
 "nbformat": 4,
 "nbformat_minor": 5
}
